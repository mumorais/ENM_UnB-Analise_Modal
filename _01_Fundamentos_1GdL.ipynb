{
  "nbformat": 4,
  "nbformat_minor": 0,
  "metadata": {
    "colab": {
      "name": "_01_Fundamentos_1GdL.ipynb",
      "provenance": [],
      "authorship_tag": "ABX9TyPCqAfD5fRHOZ+QixiYbsz+",
      "include_colab_link": true
    },
    "kernelspec": {
      "name": "python3",
      "display_name": "Python 3"
    },
    "language_info": {
      "name": "python"
    }
  },
  "cells": [
    {
      "cell_type": "markdown",
      "metadata": {
        "id": "view-in-github",
        "colab_type": "text"
      },
      "source": [
        "<a href=\"https://colab.research.google.com/github/mumorais/ENM_UnB-Analise_Modal/blob/main/_01_Fundamentos_1GdL.ipynb\" target=\"_parent\"><img src=\"https://colab.research.google.com/assets/colab-badge.svg\" alt=\"Open In Colab\"/></a>"
      ]
    },
    {
      "cell_type": "markdown",
      "metadata": {
        "id": "AS48i1LOLFFN"
      },
      "source": [
        "Dado um sistema 1GdL amortecido forçado descrito por:\n",
        "$$m \\ddot{u}(t) + c \\dot{u}(t) + k u(t) = F(t)$$\n",
        "onde a massa $m = 10 kg$, o amortecimento $c = 4Nm/s$ e rigidez $k = 1kN/m$, e forçamento $F(t) =10 \\delta(t)$. Lembre-se que $ \\delta(t) $ é o delta de Dirac.\n",
        "\n",
        "Determine:\n",
        "\n",
        "OBS: A entrega pode ser redigida no moodle em conjunto com um arquivo anexo. \n",
        "Aconselha-se a entrega em arquivo notebook Colab (.ipynb)."
      ]
    },
    {
      "cell_type": "markdown",
      "metadata": {
        "id": "IBz8NGoaLooX"
      },
      "source": [
        "1. A frequências natural $\\omega_n$ e a razão de amortecimento $\\xi$ do sistema 1GdL;"
      ]
    },
    {
      "cell_type": "code",
      "metadata": {
        "id": "pjZrdBB9LEWs"
      },
      "source": [
        ""
      ],
      "execution_count": null,
      "outputs": []
    },
    {
      "cell_type": "markdown",
      "metadata": {
        "id": "JjvqPhxELw4d"
      },
      "source": [
        "2.   Obtenha a resposta temporal analítica $u(t)$;\n",
        "\n"
      ]
    },
    {
      "cell_type": "code",
      "metadata": {
        "id": "a_4vlbLuLj8X"
      },
      "source": [
        ""
      ],
      "execution_count": null,
      "outputs": []
    },
    {
      "cell_type": "markdown",
      "metadata": {
        "id": "-CnBwT9yMJke"
      },
      "source": [
        "3.   Compare com a solução numérica por integração numérica;"
      ]
    },
    {
      "cell_type": "code",
      "metadata": {
        "id": "e-BlV3ujNLK9"
      },
      "source": [
        ""
      ],
      "execution_count": null,
      "outputs": []
    },
    {
      "cell_type": "code",
      "metadata": {
        "id": "0CfDoxFXNCs-"
      },
      "source": [
        ""
      ],
      "execution_count": null,
      "outputs": []
    },
    {
      "cell_type": "markdown",
      "metadata": {
        "id": "SlUGw_mvNDB1"
      },
      "source": [
        "4.   Obtenha a transformada de Fourier analítica $ \\hat{u} (\\omega) = \\mathfrak{F}_{\\omega} [u (t)] $; "
      ]
    },
    {
      "cell_type": "code",
      "metadata": {
        "id": "UwC1i3D7McTW"
      },
      "source": [
        ""
      ],
      "execution_count": null,
      "outputs": []
    },
    {
      "cell_type": "markdown",
      "metadata": {
        "id": "kLAKch-VMc0s"
      },
      "source": [
        "5.   Compare com a solução numérica por FFT."
      ]
    }
  ]
}