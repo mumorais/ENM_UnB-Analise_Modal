{
  "nbformat": 4,
  "nbformat_minor": 0,
  "metadata": {
    "colab": {
      "name": "_01_Fundamentos_1GdL.ipynb",
      "provenance": [],
      "collapsed_sections": [],
      "authorship_tag": "ABX9TyNYaoRzGLWkv56BtsgPcqrk",
      "include_colab_link": true
    },
    "kernelspec": {
      "name": "python3",
      "display_name": "Python 3"
    },
    "language_info": {
      "name": "python"
    }
  },
  "cells": [
    {
      "cell_type": "markdown",
      "metadata": {
        "id": "view-in-github",
        "colab_type": "text"
      },
      "source": [
        "<a href=\"https://colab.research.google.com/github/mumorais/ENM_UnB-Analise_Modal/blob/main/_01_Fundamentos_1GdL.ipynb\" target=\"_parent\"><img src=\"https://colab.research.google.com/assets/colab-badge.svg\" alt=\"Open In Colab\"/></a>"
      ]
    },
    {
      "cell_type": "markdown",
      "metadata": {
        "id": "AS48i1LOLFFN"
      },
      "source": [
        "### Dado um sistema 1GdL amortecido forçado descrito por:\n",
        "$$m \\ddot{u}(t) + c \\dot{u}(t) + k u(t) = F(t)$$\n",
        "onde a massa $m = 10 kg$, o amortecimento $c = 4Nm/s$ e rigidez $k = 1kN/m$, e forçamento $F(t) =10 \\delta(t)$. Lembre-se que $ \\delta(t) $ é o delta de Dirac.\n",
        "\n",
        "Determine:\n",
        "\n",
        "OBS: A entrega pode ser redigida no presente arquivo notebook Colab (.ipynb)."
      ]
    },
    {
      "cell_type": "markdown",
      "metadata": {
        "id": "IBz8NGoaLooX"
      },
      "source": [
        "###(a) Parâmetros Modais\n",
        "A frequências natural $\\omega_n$ e a razão de amortecimento $\\xi$ do sistema 1GdL;"
      ]
    },
    {
      "cell_type": "code",
      "metadata": {
        "id": "pjZrdBB9LEWs"
      },
      "source": [
        ""
      ],
      "execution_count": 51,
      "outputs": []
    },
    {
      "cell_type": "markdown",
      "metadata": {
        "id": "JjvqPhxELw4d"
      },
      "source": [
        "###(b) Solução Analítica Função Resposta Impulsiva (IRF)\n",
        " Seja $F(t) = F_\\delta = 10 \\delta(t)$, obtenha a resposta temporal analítica $u_\\delta(t)$;\n",
        "\n"
      ]
    },
    {
      "cell_type": "code",
      "metadata": {
        "id": "t-J9b-cCbvp5"
      },
      "source": [
        ""
      ],
      "execution_count": null,
      "outputs": []
    },
    {
      "cell_type": "markdown",
      "metadata": {
        "id": "rQpFE8WwbwQR"
      },
      "source": [
        "### Integração Numérica\n",
        "A integração numérica da equação diferential de segunda ordem $$m \\ddot{u} + c \\dot{u} + k u = F(t)$$ necessita de uma mudança de variável para transformar em um sistema de 1ª ordem (equação de estado). Abaixo temos um exemplo de código Python utilizando `odeint`. \n",
        "\n",
        "Estude o código abaixo para responder a próxima pergunta. Atentar para a routina principal (não se preocupe agora com a função `nGDLarb`."
      ]
    },
    {
      "cell_type": "code",
      "metadata": {
        "id": "e-BlV3ujNLK9"
      },
      "source": [
        "# Rotina nGdL para solução de sistema 1GdL\n",
        "import numpy as np\n",
        "\n",
        "def nGdLarb (z, t, Minv, KK, CC, tt, Ft, n):\n",
        "  x = np.atleast_2d(z[0:  n]).T\n",
        "  y = np.atleast_2d(z[n:2*n]).T\n",
        "  \n",
        "  F = np.interp(t,tt,Ft)\n",
        "\n",
        "  # state variable\n",
        "  dxdt = y        \n",
        "  dydt = Minv @ (F - (CC@y + KK@x))\n",
        "  dzdt = np.vstack((dxdt, dydt))\n",
        "\n",
        "  return dzdt.flatten()"
      ],
      "execution_count": 59,
      "outputs": []
    },
    {
      "cell_type": "code",
      "metadata": {
        "colab": {
          "base_uri": "https://localhost:8080/",
          "height": 233
        },
        "id": "c9CjcnAOQJr7",
        "outputId": "a656c13f-ceb3-4ad6-d367-947792419767"
      },
      "source": [
        "# packages python_scientific\n",
        "import numpy as np\n",
        "import matplotlib.pyplot as plt\n",
        "from scipy.integrate import odeint\n",
        "\n",
        "# initial data\n",
        "# SP - principal system\n",
        "m = 10.0                # massa         SP [kg]\n",
        "k = 1000.0              # stiffness     SP [N/m]\n",
        "xi = 1.00               # damping ratio SP [adim]\n",
        "c = 2*xi*np.sqrt(k*m)   # damping coef. SP [N.s/m]\n",
        "\n",
        "# dynamic matriz\n",
        "MM = np.array([[m]])\n",
        "KK = np.array([[k]])\n",
        "CC = np.array([[c]])\n",
        "\n",
        "F = np.array([[1]])\n",
        "# initial conditions\n",
        "x0 = np.array([0.0])\n",
        "v0 = np.array([0.0])\n",
        "z0 = np.concatenate((x0,v0))\n",
        "\n",
        "# odeint solution\n",
        "dt = 0.010                  # step size\n",
        "tini, tfin = (0.0, 10.0)     # final & initial time\n",
        "nt = int((tfin-tini)/dt)    # number of time steps\n",
        "tt = np.linspace(tini,tfin,nt)\n",
        "\n",
        "# loading\n",
        "t1= np.array([tini, tini+10*dt, tini+11*dt , tfin])\n",
        "F1= np.array([1/dt, 1/dt, 0.0,  0.0 ])\n",
        "\n",
        "#\n",
        "n = len(MM)\n",
        "Minv = np.linalg.inv(MM)\n",
        "xi = 0.10\n",
        "z2 = odeint(nGdLarb, z0, tt, args=(Minv,KK,xi*CC,t1,F1,n))\n",
        "\n",
        "# ploting\n",
        "plt.figure(figsize=(7,3))\n",
        "plt.plot(t1, (1/k)*F1 ,label = r'$F(t)/k$')\n",
        "plt.plot(tt, z2[:,0]  ,label = r'$u(t)$')\n",
        "plt.legend(loc='upper right', prop={'size':10})\n",
        "plt.xlabel(\"t (s)\")\n",
        "plt.ylabel(\"x (m)\")\n",
        "plt.grid()\n",
        "plt.show()\n"
      ],
      "execution_count": 96,
      "outputs": [
        {
          "output_type": "display_data",
          "data": {
            "image/png": "[encoded data removed]",
            "text/plain": [
              "<Figure size 504x216 with 1 Axes>"
            ]
          },
          "metadata": {
            "tags": [],
            "needs_background": "light"
          }
        }
      ]
    },
    {
      "cell_type": "markdown",
      "metadata": {
        "id": "-CnBwT9yMJke"
      },
      "source": [
        "###(c) Comparação Numérico-Analítico\n",
        "Compare a solução analítica $u_\\delta (t)$ com a solução numérica $u_{\\delta,h} (t)$ por integração numérica;"
      ]
    },
    {
      "cell_type": "code",
      "metadata": {
        "id": "3Th9Z32Le_uo"
      },
      "source": [
        ""
      ],
      "execution_count": null,
      "outputs": []
    },
    {
      "cell_type": "markdown",
      "metadata": {
        "id": "SlUGw_mvNDB1"
      },
      "source": [
        "###(d) Transformada de Fourier Analítica\n",
        "Descreva a transformada de Fourier analítica $ \\hat{u}_\\delta (\\omega) = \\mathfrak{F}_{\\omega} [u_\\delta (t)] $; "
      ]
    },
    {
      "cell_type": "code",
      "metadata": {
        "id": "UwC1i3D7McTW"
      },
      "source": [
        ""
      ],
      "execution_count": 58,
      "outputs": []
    },
    {
      "cell_type": "markdown",
      "metadata": {
        "id": "-c3ibVrchQY5"
      },
      "source": [
        "### Transformada Rápida de Fourier\n",
        "Não precisamos nos preocupar agora (vamos tratar mais na frente em Rudimentos de Processamento de Sinal). Mas abaixo temos um pequeno trecho para "
      ]
    },
    {
      "cell_type": "code",
      "metadata": {
        "colab": {
          "base_uri": "https://localhost:8080/",
          "height": 339
        },
        "id": "OiNOctBwjSYC",
        "outputId": "553b30ea-8fb1-4bea-c27f-0b9a52ed8ef0"
      },
      "source": [
        "from scipy.fft import fft, fftfreq\n",
        "# Number of sample points\n",
        "N = nt\n",
        "# sample spacing\n",
        "T = dt\n",
        "x = t1\n",
        "y = z2[:,0]\n",
        "yf = fft(y)\n",
        "xf = fftfreq(N, T)[:N//2]\n",
        "\n",
        "mY = (2.0/N * np.abs(yf[0:N//2])) # Find magnitude\n",
        "peakY = np.max(mY) # Find max peak\n",
        "locY = np.argmax(mY) # Find its location\n",
        "frqY = xf[locY] # Get the actual frequency value\n",
        "print(\"Pico de Frequencia f_peak: %5.3f Hz\" % (frqY))\n",
        "\n",
        "import matplotlib.pyplot as plt\n",
        "plt.stem(xf, 2.0/N * np.abs(yf[0:N//2]))\n",
        "plt.grid()\n",
        "plt.axis([0, 10, 0, 0.015])\n",
        "plt.show()\n",
        "peakY"
      ],
      "execution_count": 108,
      "outputs": [
        {
          "output_type": "stream",
          "text": [
            "Pico de Frequencia f_peak: 1.600 Hz\n"
          ],
          "name": "stdout"
        },
        {
          "output_type": "stream",
          "text": [
            "/usr/local/lib/python3.7/dist-packages/ipykernel_launcher.py:18: UserWarning: In Matplotlib 3.3 individual lines on a stem plot will be added as a LineCollection instead of individual lines. This significantly improves the performance of a stem plot. To remove this warning and switch to the new behaviour, set the \"use_line_collection\" keyword argument to True.\n"
          ],
          "name": "stderr"
        },
        {
          "output_type": "display_data",
          "data": {
            "image/png": "[encoded data removed]",
            "text/plain": [
              "<Figure size 432x288 with 1 Axes>"
            ]
          },
          "metadata": {
            "tags": [],
            "needs_background": "light"
          }
        },
        {
          "output_type": "execute_result",
          "data": {
            "text/plain": [
              "0.009955748111437016"
            ]
          },
          "metadata": {
            "tags": []
          },
          "execution_count": 108
        }
      ]
    }
  ]
}