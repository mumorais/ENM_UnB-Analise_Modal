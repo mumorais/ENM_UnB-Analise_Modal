{
  "nbformat": 4,
  "nbformat_minor": 0,
  "metadata": {
    "colab": {
      "name": "_01_Fundamentos_1GdL.ipynb",
      "provenance": [],
      "collapsed_sections": [],
      "authorship_tag": "ABX9TyMWh1445g+WLAfmpFiYGsMR",
      "include_colab_link": true
    },
    "kernelspec": {
      "name": "python3",
      "display_name": "Python 3"
    },
    "language_info": {
      "name": "python"
    }
  },
  "cells": [
    {
      "cell_type": "markdown",
      "metadata": {
        "id": "view-in-github",
        "colab_type": "text"
      },
      "source": [
        "<a href=\"https://colab.research.google.com/github/mumorais/ENM_UnB-Analise_Modal/blob/main/_01_Fundamentos_1GdL.ipynb\" target=\"_parent\"><img src=\"https://colab.research.google.com/assets/colab-badge.svg\" alt=\"Open In Colab\"/></a>"
      ]
    },
    {
      "cell_type": "markdown",
      "metadata": {
        "id": "AS48i1LOLFFN"
      },
      "source": [
        "### Dado um sistema 1GdL amortecido forçado descrito por:\n",
        "$$m \\ddot{u}(t) + c \\dot{u}(t) + k u(t) = F(t)$$\n",
        "onde a massa $m = 10 kg$, o amortecimento $c = 4Nm/s$ e rigidez $k = 1kN/m$, e forçamento $F(t) =10 \\delta(t)$. Lembre-se que $ \\delta(t) $ é o delta de Dirac.\n",
        "\n",
        "Determine:\n",
        "\n",
        "OBS: A entrega pode ser redigida no presente arquivo notebook Colab (.ipynb)."
      ]
    },
    {
      "cell_type": "markdown",
      "metadata": {
        "id": "IBz8NGoaLooX"
      },
      "source": [
        "1. A frequências natural $\\omega_n$ e a razão de amortecimento $\\xi$ do sistema 1GdL;"
      ]
    },
    {
      "cell_type": "code",
      "metadata": {
        "id": "pjZrdBB9LEWs"
      },
      "source": [
        ""
      ],
      "execution_count": null,
      "outputs": []
    },
    {
      "cell_type": "markdown",
      "metadata": {
        "id": "JjvqPhxELw4d"
      },
      "source": [
        "2.   Seja $F(t) = F_\\delta = 10 \\delta(t)$, obtenha a resposta temporal analítica $u_\\delta(t)$;\n",
        "\n"
      ]
    },
    {
      "cell_type": "code",
      "metadata": {
        "id": "a_4vlbLuLj8X"
      },
      "source": [
        ""
      ],
      "execution_count": null,
      "outputs": []
    },
    {
      "cell_type": "markdown",
      "metadata": {
        "id": "-CnBwT9yMJke"
      },
      "source": [
        "3.   Compare a solução analítica $u_\\delta (t)$ com a solução numérica $u_{\\delta,h} (t)$ por integração numérica;"
      ]
    },
    {
      "cell_type": "code",
      "metadata": {
        "id": "e-BlV3ujNLK9"
      },
      "source": [
        "# Rotina nGdL para solução de sistema 1GdL\n",
        "import numpy as np\n",
        "\n",
        "def nGdLarb (z, t, Minv, KK, CC, tt, Ft, n):\n",
        "  x = np.atleast_2d(z[0:  n]).T\n",
        "  y = np.atleast_2d(z[n:2*n]).T\n",
        "  \n",
        "  F = np.interp(t,tt,Ft)\n",
        "\n",
        "  # state variable\n",
        "  dxdt = y        \n",
        "  dydt = Minv @ (F - (CC@y + KK@x))\n",
        "  dzdt = np.vstack((dxdt, dydt))\n",
        "\n",
        "  return dzdt.flatten()\n"
      ],
      "execution_count": 48,
      "outputs": []
    },
    {
      "cell_type": "code",
      "metadata": {
        "colab": {
          "base_uri": "https://localhost:8080/",
          "height": 225
        },
        "id": "c9CjcnAOQJr7",
        "outputId": "04d34b85-1448-44e4-efcc-d2bb47e58852"
      },
      "source": [
        "# packages python_scientific\n",
        "import numpy as np\n",
        "import matplotlib.pyplot as plt\n",
        "from scipy.integrate import odeint\n",
        "\n",
        "# initial data\n",
        "# SP - principal system\n",
        "m = 10.0                # massa         SP [kg]\n",
        "k = 1000.0              # stiffness     SP [N/m]\n",
        "xi = 1.00               # damping ratio SP [adim]\n",
        "c = 2*xi*np.sqrt(k*m)   # damping coef. SP [N.s/m]\n",
        "\n",
        "# dynamic matriz\n",
        "MM = np.array([[m]])\n",
        "KK = np.array([[k]])\n",
        "CC = np.array([[c]])\n",
        "\n",
        "F = np.array([[1]])\n",
        "# initial conditions\n",
        "x0 = np.array([0.0])\n",
        "v0 = np.array([0.0])\n",
        "z0 = np.concatenate((x0,v0))\n",
        "\n",
        "# odeint solution\n",
        "dt = 0.01                   # step size\n",
        "tini, tfin = (0.0, 5.0)     # final & initial time\n",
        "nt = int((tfin-tini)/dt)    # number of time steps\n",
        "tt = np.linspace(tini,tfin,nt)\n",
        "\n",
        "# loading\n",
        "t1= np.array([tini, tini+10*dt, tini+11*dt , tfin])\n",
        "F1= np.array([10.0, 10.0, 0.0,  0.0 ])\n",
        "\n",
        "#\n",
        "n = len(MM)\n",
        "Minv = np.linalg.inv(MM)\n",
        "xi = 0.10\n",
        "z2 = odeint(nGdLarb, z0, tt, args=(Minv,KK,xi*CC,t1,F1,n))\n",
        "\n",
        "# ploting\n",
        "plt.figure(figsize=(7,3))\n",
        "plt.plot(t1, (1/k)*F1 ,label = r'$F(t)/k$')\n",
        "plt.plot(tt, z2[:,0]  ,label = r'$u(t)$')\n",
        "plt.legend(loc='upper right', prop={'size':10})\n",
        "plt.xlabel(\"t (s)\")\n",
        "plt.ylabel(\"x (m)\")\n",
        "plt.grid()\n",
        "plt.show()\n"
      ],
      "execution_count": 51,
      "outputs": [
        {
          "output_type": "display_data",
          "data": {
            "image/png": "[encoded data removed]",
            "text/plain": [
              "<Figure size 504x216 with 1 Axes>"
            ]
          },
          "metadata": {
            "tags": [],
            "needs_background": "light"
          }
        }
      ]
    },
    {
      "cell_type": "markdown",
      "metadata": {
        "id": "SlUGw_mvNDB1"
      },
      "source": [
        "4.   Obtenha a transformada de Fourier analítica $ \\hat{u}_\\delta (\\omega) = \\mathfrak{F}_{\\omega} [u_\\delta (t)] $; "
      ]
    },
    {
      "cell_type": "code",
      "metadata": {
        "id": "UwC1i3D7McTW"
      },
      "source": [
        ""
      ],
      "execution_count": null,
      "outputs": []
    },
    {
      "cell_type": "markdown",
      "metadata": {
        "id": "kLAKch-VMc0s"
      },
      "source": [
        "5.   Compare com a transformada de Fourier $\\hat{u}_\\delta (t)$ por FFT."
      ]
    },
    {
      "cell_type": "code",
      "metadata": {
        "id": "hgS2ZliLZacK"
      },
      "source": [
        ""
      ],
      "execution_count": null,
      "outputs": []
    }
  ]
}